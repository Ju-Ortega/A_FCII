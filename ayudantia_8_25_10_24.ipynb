{
 "cells": [
  {
   "cell_type": "markdown",
   "metadata": {},
   "source": [
    "# Bienvenidos a la 8va práctica de Física Computacional 2024-2 \n",
    "* Alumna Ayudante: Valentina Santelices\n",
    "    * Correo: vsantelices2021@udec.cl\n",
    "* Alumno Ayudante: Juan Ortega\n",
    "    * Correo: juortega2019@udec.cl"
   ]
  },
  {
   "cell_type": "code",
   "execution_count": 5,
   "metadata": {},
   "outputs": [
    {
     "name": "stderr",
     "output_type": "stream",
     "text": [
      "/tmp/ipykernel_15894/1663524650.py:62: MatplotlibDeprecationWarning: The tostring_rgb function was deprecated in Matplotlib 3.8 and will be removed two minor releases later. Use buffer_rgba instead.\n",
      "  image = np.frombuffer(fig.canvas.tostring_rgb(), dtype='uint8')\n"
     ]
    },
    {
     "data": {
      "text/plain": [
       "'onda_2d.gif'"
      ]
     },
     "execution_count": 5,
     "metadata": {},
     "output_type": "execute_result"
    }
   ],
   "source": [
    "import numpy as np\n",
    "import matplotlib.pyplot as plt\n",
    "from matplotlib import cm\n",
    "import imageio\n",
    "\n",
    "# Parámetros físicos y del sistema\n",
    "L = 1.0       # Longitud del sistema\n",
    "dx = 0.01     # Paso espacial\n",
    "c = 1.0       # Velocidad de la onda\n",
    "\n",
    "# Paso de tiempo para cumplir la condición CFL (estabilidad numérica)\n",
    "dt = 0.707 * dx / c  \n",
    "\n",
    "# Crear la malla 2D\n",
    "x = np.arange(0, L + dx, dx)\n",
    "y = np.arange(0, L + dx, dx)\n",
    "xx, yy = np.meshgrid(x, y)  # Malla de puntos en 2D\n",
    "\n",
    "npts = len(x)  # Número de puntos espaciales\n",
    "nsteps = 100   # Número de pasos temporales\n",
    "\n",
    "# Inicializar la matriz 3D para almacenar los estados (pasado, presente, futuro)\n",
    "f = np.zeros((npts, npts, 3))\n",
    "\n",
    "# Definir el pulso inicial como una campana gaussiana\n",
    "xc, w = 0.5, 0.05  # Centro y ancho del pulso\n",
    "f[:, :, 0] = np.exp(-((xx - xc)**2 + (yy - xc)**2) / w**2)  # Condición inicial\n",
    "\n",
    "# Lista para almacenar los frames de la animación\n",
    "frames = []\n",
    "\n",
    "# Primer paso: Usar el estado inicial para calcular el estado en t + Δt\n",
    "f[1:-1, 1:-1, 1] = f[1:-1, 1:-1, 0] + \\\n",
    "    0.5 * (c * dt / dx)**2 * (\n",
    "        f[:-2, 1:-1, 0] + f[2:, 1:-1, 0] - 2 * f[1:-1, 1:-1, 0] +\n",
    "        f[1:-1, :-2, 0] + f[1:-1, 2:, 0] - 2 * f[1:-1, 1:-1, 0]\n",
    "    )\n",
    "\n",
    "# Bucle principal para los siguientes pasos (Leapfrog)\n",
    "for k in range(nsteps):\n",
    "    # Calcular el siguiente estado en t + Δt\n",
    "    f[1:-1, 1:-1, 2] = -f[1:-1, 1:-1, 0] + 2 * f[1:-1, 1:-1, 1] + \\\n",
    "        (c * dt / dx)**2 * (\n",
    "            f[:-2, 1:-1, 1] + f[2:, 1:-1, 1] - 2 * f[1:-1, 1:-1, 1] +\n",
    "            f[1:-1, :-2, 1] + f[1:-1, 2:, 1] - 2 * f[1:-1, 1:-1, 1]\n",
    "        )\n",
    "\n",
    "    # Actualizar los estados para el siguiente ciclo\n",
    "    f[:, :, 0] = f[:, :, 1]  # El presente se convierte en pasado\n",
    "    f[:, :, 1] = f[:, :, 2]  # El futuro se convierte en presente\n",
    "\n",
    "    # Guardar los frames cada 10 pasos\n",
    "    if k % 10 == 0:\n",
    "        fig = plt.figure()\n",
    "        ax = fig.add_subplot(projection='3d')\n",
    "        ax.plot_surface(xx, yy, f[:, :, 2], cmap=cm.coolwarm)\n",
    "        ax.set_title(f'Tiempo: {k * dt:.2f} s')\n",
    "        ax.set_zlim(-0.25, 1.0)\n",
    "\n",
    "        # Guardar el frame en la lista de imágenes\n",
    "        fig.canvas.draw()\n",
    "        image = np.frombuffer(fig.canvas.tostring_rgb(), dtype='uint8')\n",
    "        image = image.reshape(fig.canvas.get_width_height()[::-1] + (3,))\n",
    "        frames.append(image)\n",
    "        plt.close(fig)\n",
    "\n",
    "# Crear el GIF a partir de los frames\n",
    "gif_path = \"onda_2d.gif\"\n",
    "imageio.mimsave(gif_path, frames, fps=5)\n",
    "\n",
    "gif_path\n"
   ]
  }
 ],
 "metadata": {
  "kernelspec": {
   "display_name": "base",
   "language": "python",
   "name": "python3"
  },
  "language_info": {
   "codemirror_mode": {
    "name": "ipython",
    "version": 3
   },
   "file_extension": ".py",
   "mimetype": "text/x-python",
   "name": "python",
   "nbconvert_exporter": "python",
   "pygments_lexer": "ipython3",
   "version": "3.12.4"
  }
 },
 "nbformat": 4,
 "nbformat_minor": 2
}
