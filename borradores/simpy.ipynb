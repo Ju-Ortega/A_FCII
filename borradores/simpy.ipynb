{
 "cells": [
  {
   "cell_type": "markdown",
   "metadata": {},
   "source": [
    "# Como usar simpy para resolver edos"
   ]
  },
  {
   "cell_type": "code",
   "execution_count": 2,
   "metadata": {},
   "outputs": [
    {
     "data": {
      "text/latex": [
       "$\\displaystyle y{\\left(x \\right)} = \\left(2 - e^{- x}\\right) e^{- x}$"
      ],
      "text/plain": [
       "Eq(y(x), (2 - exp(-x))*exp(-x))"
      ]
     },
     "execution_count": 2,
     "metadata": {},
     "output_type": "execute_result"
    }
   ],
   "source": [
    "import sympy as sp\n",
    "\n",
    "# Definimos las variables simbólicas\n",
    "x = sp.symbols('x')\n",
    "y = sp.Function('y')(x)\n",
    "\n",
    "# Definimos la ecuación diferencial de segundo orden: y'' + 3y' + 2y = 0\n",
    "edo = sp.Eq(y.diff(x, 2) + 3*y.diff(x) + 2*y, 0)\n",
    "\n",
    "# Definimos las condiciones iniciales: y(0) = 1, y'(0) = 0\n",
    "ci = {y.subs(x, 0): 1, y.diff(x).subs(x, 0): 0}\n",
    "\n",
    "# Resolvemos la ecuación diferencial con las condiciones iniciales\n",
    "sol_analitica = sp.dsolve(edo, y, ics=ci)\n",
    "\n",
    "# Mostramos la solución\n",
    "sol_analitica\n",
    "\n"
   ]
  },
  {
   "cell_type": "code",
   "execution_count": 10,
   "metadata": {},
   "outputs": [
    {
     "data": {
      "text/latex": [
       "$\\displaystyle y{\\left(x \\right)} = - \\frac{3 e^{x}}{2} + \\left(\\frac{11}{10} + \\frac{\\sqrt{5}}{2}\\right) e^{\\frac{x \\left(-1 + \\sqrt{5}\\right)}{2}} + \\frac{\\sin{\\left(x \\right)}}{10} + \\frac{3 \\cos{\\left(x \\right)}}{10} + \\left(\\frac{11}{10} - \\frac{\\sqrt{5}}{2}\\right) e^{- \\frac{x \\left(1 + \\sqrt{5}\\right)}{2}}$"
      ],
      "text/plain": [
       "Eq(y(x), -3*exp(x)/2 + (11/10 + sqrt(5)/2)*exp(x*(-1 + sqrt(5))/2) + sin(x)/10 + 3*cos(x)/10 + (11/10 - sqrt(5)/2)*exp(-x*(1 + sqrt(5))/2))"
      ]
     },
     "execution_count": 10,
     "metadata": {},
     "output_type": "execute_result"
    }
   ],
   "source": [
    "import sympy as sp\n",
    "\n",
    "# Definimos las variables simbólicas\n",
    "x = sp.symbols('x')\n",
    "y = sp.Function('y')(x)\n",
    "\n",
    "# Definimos la ecuación diferencial de tercer orden: y''' - 2y' + y = sin(x)\n",
    "edo = sp.Eq(y.diff(x, 3) - 2*y.diff(x) + y, sp.sin(x))\n",
    "\n",
    "# Definimos las condiciones iniciales: y(0) = 1, y'(0) = 0, y''(0) = -1\n",
    "ci = {y.subs(x, 0): 1, y.diff(x,1).subs(x, 0): 0, y.diff(x, 2).subs(x, 0): -1}\n",
    "\n",
    "# Resolvemos la ecuación diferencial con las condiciones iniciales\n",
    "sol_analitica = sp.dsolve(edo, y, ics=ci)\n",
    "\n",
    "# Mostramos la solución\n",
    "sol_analitica\n",
    "\n"
   ]
  }
 ],
 "metadata": {
  "kernelspec": {
   "display_name": "base",
   "language": "python",
   "name": "python3"
  },
  "language_info": {
   "codemirror_mode": {
    "name": "ipython",
    "version": 3
   },
   "file_extension": ".py",
   "mimetype": "text/x-python",
   "name": "python",
   "nbconvert_exporter": "python",
   "pygments_lexer": "ipython3",
   "version": "3.12.4"
  }
 },
 "nbformat": 4,
 "nbformat_minor": 2
}
